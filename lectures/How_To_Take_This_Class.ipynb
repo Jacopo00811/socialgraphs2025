{
 "cells": [
  {
   "cell_type": "markdown",
   "metadata": {},
   "source": [
    "# How the class works!\n",
    "\n",
    "## Overview\n",
    "\n",
    "Welcome to the _Social graphs and interactions_ course. This class probably works a little differently from other classes you've taken. To avoid any confusion, I've created this notebook to explain how everything works.\n",
    "\n",
    "Each week of this class is an IPython notebook like this one. **_In order to successfully follow the class, you simply start reading from the top_**, following the instructions. As you read, you will encounter three things that should cause you to take break from reading or sometimes leave the page for a little bit:\n",
    "\n",
    "* Instructions to go **check out a video lecture**.\n",
    "* Instructions to **read something** (I don't use a single textbook, so will make sure to link to the relevant text).\n",
    "* Instructions to **solve a few exercises**. Ideally you should solve the exercises on your own, but work on and discuss the problems as part of a 3 person group. Exercises should be carried out within an IPython notebook (explained below). The exercises are the most important part of the class. It is through the exercises that you will learn the course material, and because the exercises lay the foundations for the two mandatory course assignment (due after week 4 and week 8). "
   ]
  },
  {
   "cell_type": "markdown",
   "metadata": {},
   "source": [
    "> **_Video lecture_**: Start by watching the \"[How we do things](https://www.youtube.com/watch?v=NHr6Jzy9q_A)\" video below. The video explains the pedagogical aspects of how the class works (essentially answering the question of **why** this class is set up the way it is). \n",
    "> "
   ]
  },
  {
   "cell_type": "markdown",
   "metadata": {},
   "source": [
    "[![VIDEO](images/youtube_howto.jpg)](https://www.youtube.com/watch?v=NHr6Jzy9q_A)"
   ]
  },
  {
   "cell_type": "code",
   "execution_count": null,
   "metadata": {},
   "outputs": [],
   "source": []
  }
 ],
 "metadata": {
  "kernelspec": {
   "display_name": "Python 3 (ipykernel)",
   "language": "python",
   "name": "python3"
  },
  "language_info": {
   "codemirror_mode": {
    "name": "ipython",
    "version": 3
   },
   "file_extension": ".py",
   "mimetype": "text/x-python",
   "name": "python",
   "nbconvert_exporter": "python",
   "pygments_lexer": "ipython3",
   "version": "3.9.19"
  }
 },
 "nbformat": 4,
 "nbformat_minor": 4
}
